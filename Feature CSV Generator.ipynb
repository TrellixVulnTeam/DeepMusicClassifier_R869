{
 "cells": [
  {
   "cell_type": "code",
   "execution_count": 2,
   "metadata": {},
   "outputs": [],
   "source": [
    "import csv\n",
    "import os\n",
    "from pathlib import Path\n",
    "\n",
    "import numpy as np\n",
    "import matplotlib.pyplot as plt\n",
    "import scipy as sp\n",
    "import torch"
   ]
  },
  {
   "cell_type": "code",
   "execution_count": 50,
   "metadata": {},
   "outputs": [],
   "source": [
    "import librosa\n",
    "\n",
    "def extract_features(songFile, chunckSize = 30):\n",
    "    '''\n",
    "    songFile should be a wav file\n",
    "    \n",
    "    chunkSize is how many seconds of audio\n",
    "    \n",
    "    Returns tuple of features of a songFlile:\n",
    "    tempo, beat_frames, chroma_stft, rmse, spec_cent, spec_bw, rolloff, zcr, mfcc\n",
    "    '''\n",
    "    \n",
    "    y, sr = librosa.load(songFile)\n",
    "    tempo, beat_frames = librosa.beat.beat_track(y=y, sr=sr)\n",
    "    chroma_stft = librosa.feature.chroma_stft(y=y, sr=sr)\n",
    "    rmse = librosa.feature.rms(y=y)\n",
    "    spec_cent = librosa.feature.spectral_centroid(y=y, sr=sr)\n",
    "    spec_bw = librosa.feature.spectral_bandwidth(y=y, sr=sr)\n",
    "    rolloff = librosa.feature.spectral_rolloff(y=y, sr=sr)\n",
    "    zcr = librosa.feature.zero_crossing_rate(y)\n",
    "    mfcc = librosa.feature.mfcc(y=y, sr=sr)\n",
    "\n",
    "    beats = beat_frames.shape[0]\n",
    "\n",
    "    # Use the average value\n",
    "    chroma_stft = np.mean(chroma_stft)\n",
    "    rmse = np.mean(rmse)\n",
    "    spec_cent = np.mean(spec_cent)\n",
    "    spec_bw = np.mean(spec_bw)\n",
    "    rolloff = np.mean(rolloff)\n",
    "    zcr = np.mean(zcr)\n",
    "    mfcc = np.mean(mfcc)\n",
    "\n",
    "    return tempo, beats, chroma_stft, rmse, spec_cent, spec_bw, rolloff, zcr, mfcc"
   ]
  },
  {
   "cell_type": "code",
   "execution_count": 104,
   "metadata": {},
   "outputs": [],
   "source": [
    "def create_csv(src, output, songNumber = None):\n",
    "    '''\n",
    "    output should be the name of the csv file you want to create\n",
    "    \n",
    "    songNumber is number of songs per genre. If left blank will do all it can find\n",
    "    '''\n",
    "    \n",
    "    genreNames = [f.name for f in os.scandir(src) if f.is_dir()]\n",
    "\n",
    "    features = ['Song Name', 'Genre', 'Tempo', 'Beats', 'Chroma_stft', 'RSME', 'Spec_Cent', 'Spec_BW', 'Rolloff', 'ZCR', 'MFCC']\n",
    "\n",
    "    with open(output, mode='w') as featureCSV:\n",
    "        featureWriter = csv.writer(featureCSV, delimiter=',', quotechar='\"', quoting=csv.QUOTE_MINIMAL)\n",
    "        featureWriter.writerow(features)\n",
    "        \n",
    "        songCount = 0\n",
    "        \n",
    "        for genre in genreNames:\n",
    "            genreFolder = Path(src, genre)\n",
    "            songs = [f.name for f in os.scandir(genreFolder) if (f.is_file() and str(f.name) != '.DS_Store')]\n",
    "            \n",
    "            if songNumber == None:\n",
    "                for song in songs:\n",
    "                    songFile = Path(genreFolder, song)\n",
    "                    songName = song[4:-4]\n",
    "                    \n",
    "                    technical_features = extract_features(songFile)\n",
    "                    row = [songName, genre]\n",
    "                    row.extend(technical_features)\n",
    "                    featureWriter.writerow(row)\n",
    "                    \n",
    "                    if songCount%10==0:\n",
    "                        print(f'On Song {songCount +1}')\n",
    "                    songCount +=1\n",
    "            \n",
    "            else:\n",
    "                i=0\n",
    "                for song in songs:\n",
    "                    if i < songNumber:\n",
    "                        songFile = Path(genreFolder, song)\n",
    "                        songName = song[4:-4]\n",
    "                        technical_features = extract_features(songFile)\n",
    "                        row = [songName, genre]\n",
    "                        row.extend(technical_features)\n",
    "                        featureWriter.writerow(row)\n",
    "                        i+=1\n",
    "                    else:\n",
    "                        break\n",
    "            \n"
   ]
  },
  {
   "cell_type": "code",
   "execution_count": 73,
   "metadata": {},
   "outputs": [
    {
     "name": "stdout",
     "output_type": "stream",
     "text": [
      "/Users/ibrahimbutt/Hamza/aps360/Project/SongFeatures.csv\n"
     ]
    }
   ],
   "source": [
    "filePath = Path(os.getcwd(), 'SongFeatures.csv')\n",
    "print(filePath)"
   ]
  },
  {
   "cell_type": "code",
   "execution_count": 105,
   "metadata": {},
   "outputs": [
    {
     "name": "stdout",
     "output_type": "stream",
     "text": [
      "On Song 1\n",
      "On Song 11\n",
      "On Song 21\n",
      "On Song 31\n",
      "On Song 41\n",
      "On Song 51\n",
      "On Song 61\n",
      "On Song 71\n",
      "On Song 81\n",
      "On Song 91\n",
      "On Song 101\n",
      "On Song 111\n",
      "On Song 121\n",
      "On Song 131\n",
      "On Song 141\n",
      "On Song 151\n",
      "On Song 161\n",
      "On Song 171\n",
      "On Song 181\n",
      "On Song 191\n",
      "On Song 201\n",
      "On Song 211\n",
      "On Song 221\n",
      "On Song 231\n",
      "On Song 241\n",
      "On Song 251\n",
      "On Song 261\n",
      "On Song 271\n",
      "On Song 281\n",
      "On Song 291\n",
      "On Song 301\n",
      "On Song 311\n",
      "On Song 321\n",
      "On Song 331\n",
      "On Song 341\n",
      "On Song 351\n",
      "On Song 361\n",
      "On Song 371\n",
      "On Song 381\n",
      "On Song 391\n",
      "On Song 401\n",
      "On Song 411\n",
      "On Song 421\n",
      "On Song 431\n",
      "On Song 441\n",
      "On Song 451\n",
      "On Song 461\n",
      "On Song 471\n",
      "On Song 481\n",
      "On Song 491\n",
      "On Song 501\n",
      "On Song 511\n",
      "On Song 521\n",
      "On Song 531\n",
      "On Song 541\n",
      "On Song 551\n",
      "On Song 561\n",
      "On Song 571\n",
      "On Song 581\n",
      "On Song 591\n",
      "On Song 601\n",
      "On Song 611\n",
      "On Song 621\n",
      "On Song 631\n",
      "On Song 641\n",
      "On Song 651\n",
      "On Song 661\n",
      "On Song 671\n",
      "On Song 681\n"
     ]
    }
   ],
   "source": [
    "src = Path(os.getcwd(), 'Trimmed Audio')\n",
    "create_csv(src, filePath)"
   ]
  },
  {
   "cell_type": "code",
   "execution_count": 51,
   "metadata": {},
   "outputs": [],
   "source": [
    "features = extract_features(Path(src, \"alternative\", 'Adult Hits.wav'))"
   ]
  },
  {
   "cell_type": "code",
   "execution_count": 90,
   "metadata": {},
   "outputs": [],
   "source": [
    "import pydub\n",
    "from pydub.utils import make_chunks\n",
    "\n",
    "\n",
    "def splitAudioFiles(src, seconds):\n",
    "    \n",
    "    trimmedDir = Path(src, 'Trimmed Audio')\n",
    "    \n",
    "    try:\n",
    "        os.rmdir(trimmedDir)\n",
    "    except OSError as error:  \n",
    "        pass \n",
    "    \n",
    "    genreNames = [f.name for f in os.scandir(Path(src, 'wav files')) if f.is_dir()]\n",
    "    \n",
    "    \n",
    "    try:  \n",
    "        os.mkdir(trimmedDir)  \n",
    "    except OSError as error:  \n",
    "        pass \n",
    "    \n",
    "    \n",
    "    for genreName in genreNames:\n",
    "            \n",
    "        trimmedGenre = Path(trimmedDir, genreName)\n",
    "        \n",
    "        try:  \n",
    "            os.mkdir(trimmedGenre)  \n",
    "        except OSError as error:  \n",
    "            pass \n",
    "        \n",
    "        wavGenrePath = Path(src, 'wav files', genreName)\n",
    "        \n",
    "\n",
    "        # :-4 is to remove .wav from the name\n",
    "        songnames = [f.name[:-4] for f in os.scandir(wavGenrePath) if (f.is_file() and str(f.name) != '.DS_Store')]\n",
    "\n",
    "        for songname in songnames:\n",
    "            wavSongPath = Path(wavGenrePath, songname+'.wav')\n",
    "            \n",
    "            sound = pydub.AudioSegment.from_file(wavSongPath, 'wav')\n",
    "            \n",
    "            chunk_length_ms = seconds*1000 # pydub calculates in millisec\n",
    "            chunks = make_chunks(sound, chunk_length_ms) #Make chunks of one sec\n",
    "            \n",
    "            check = False\n",
    "            for i, chunk in enumerate(chunks):\n",
    "                if check:\n",
    "                    break\n",
    "                \n",
    "                chunk.export(Path(trimmedGenre,str(seconds)+'s_'+songname+'.wav'), format='wav')\n",
    "                \n",
    "                check=True\n",
    "\n",
    "    "
   ]
  },
  {
   "cell_type": "code",
   "execution_count": 91,
   "metadata": {},
   "outputs": [],
   "source": [
    "splitAudioFiles(os.getcwd(),30)"
   ]
  },
  {
   "cell_type": "code",
   "execution_count": 79,
   "metadata": {},
   "outputs": [
    {
     "name": "stdout",
     "output_type": "stream",
     "text": [
      "/Users/ibrahimbutt/Hamza/aps360/Project\n"
     ]
    }
   ],
   "source": [
    "print(os.getcwd())"
   ]
  },
  {
   "cell_type": "code",
   "execution_count": null,
   "metadata": {},
   "outputs": [],
   "source": []
  }
 ],
 "metadata": {
  "kernelspec": {
   "display_name": "Python 3",
   "language": "python",
   "name": "python3"
  },
  "language_info": {
   "codemirror_mode": {
    "name": "ipython",
    "version": 3
   },
   "file_extension": ".py",
   "mimetype": "text/x-python",
   "name": "python",
   "nbconvert_exporter": "python",
   "pygments_lexer": "ipython3",
   "version": "3.7.6"
  }
 },
 "nbformat": 4,
 "nbformat_minor": 4
}
