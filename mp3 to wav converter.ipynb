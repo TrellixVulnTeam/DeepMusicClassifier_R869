{
 "cells": [
  {
   "cell_type": "code",
   "execution_count": 1,
   "metadata": {},
   "outputs": [],
   "source": [
    "import os\n",
    "from pathlib import Path"
   ]
  },
  {
   "cell_type": "code",
   "execution_count": 2,
   "metadata": {},
   "outputs": [
    {
     "name": "stdout",
     "output_type": "stream",
     "text": [
      "/Users/ibrahimbutt/Hamza/aps360/Project\n"
     ]
    }
   ],
   "source": [
    "print(os.getcwd())"
   ]
  },
  {
   "cell_type": "code",
   "execution_count": null,
   "metadata": {},
   "outputs": [],
   "source": [
    "# Need ffmpeg installed on your computer in addition to this module\n",
    "import pydub\n",
    "\n"
   ]
  },
  {
   "cell_type": "markdown",
   "metadata": {},
   "source": [
    "**Important Note for Running on your own:**\n",
    "Change the path variables with your own folder names, shouldn't be too difficult"
   ]
  },
  {
   "cell_type": "code",
   "execution_count": 4,
   "metadata": {},
   "outputs": [
    {
     "name": "stdout",
     "output_type": "stream",
     "text": [
      "['alternative', 'r_b', 'hiphop_rap', 'blues', 'latin', 'classical', 'rock', 'country']\n"
     ]
    }
   ],
   "source": [
    "mp3Path = Path(os.getcwd(), 'mp3 files', 'songs')\n",
    "\n",
    "genreNames = [f.name for f in os.scandir(mp3Path) if f.is_dir()]\n",
    "\n",
    "print(genreNames)\n",
    "\n"
   ]
  },
  {
   "cell_type": "code",
   "execution_count": null,
   "metadata": {},
   "outputs": [],
   "source": [
    "for genreName in genreNames:\n",
    "    \n",
    "    wavGenrePath = Path(os.getcwd(), 'wav files', genreName)\n",
    "    mp3GenrePath = Path(mp3Path, genreName)\n",
    "    \n",
    "    # Makes wavGenrePath if not already made\n",
    "    try:  \n",
    "        os.mkdir(wavGenrePath)  \n",
    "    except OSError as error:  \n",
    "        pass \n",
    "    \n",
    "    # :-4 is to remove .mp3 from the name\n",
    "    songnames = [f.name[:-4] for f in os.scandir(mp3GenrePath) if (f.is_file() and str(f.name) != '.DS_Store')]\n",
    "    \n",
    "    for songname in songnames:\n",
    "        mp3SongPath = Path(mp3GenrePath, songname+'.mp3')\n",
    "        wavSongPath = Path(wavGenrePath, songname+'.wav')\n",
    "        \n",
    "        sound = pydub.AudioSegment.from_mp3(mp3SongPath)\n",
    "        sound.export(wavSongPath, format='wav')\n"
   ]
  }
 ],
 "metadata": {
  "kernelspec": {
   "display_name": "Python 3",
   "language": "python",
   "name": "python3"
  },
  "language_info": {
   "codemirror_mode": {
    "name": "ipython",
    "version": 3
   },
   "file_extension": ".py",
   "mimetype": "text/x-python",
   "name": "python",
   "nbconvert_exporter": "python",
   "pygments_lexer": "ipython3",
   "version": "3.7.6"
  }
 },
 "nbformat": 4,
 "nbformat_minor": 4
}
