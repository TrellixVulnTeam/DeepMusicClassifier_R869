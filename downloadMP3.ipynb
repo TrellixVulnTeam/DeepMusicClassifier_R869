{
 "cells": [
  {
   "cell_type": "code",
   "execution_count": 137,
   "metadata": {},
   "outputs": [],
   "source": [
    "from selenium import webdriver\n",
    "from selenium.webdriver.common.keys import Keys\n",
    "import time\n",
    "from selenium.common.exceptions import NoSuchElementException "
   ]
  },
  {
   "cell_type": "code",
   "execution_count": 414,
   "metadata": {},
   "outputs": [],
   "source": [
    "with open('Top100Songs.csv',encoding=\"latin9\") as csv_file:\n",
    "    lines = csv_file.readlines()\n",
    "\n",
    "boolean = []\n",
    "for line in lines:\n",
    "    data = line.split(',')\n",
    "    boolean.append(data[4])"
   ]
  },
  {
   "cell_type": "code",
   "execution_count": 498,
   "metadata": {},
   "outputs": [],
   "source": [
    "boolean = [\"Bad Wolves Sober\",\"Everybody Loves an Outlaw I See Red\",\"Eagles Hotel California\",\"Guns N' Roses Sweet Child O' Mine\",\"Bon Jovi Livin' On a Prayer\",\"AC/DC Back In Black\",\"Toto Africa\",\"Guns N' Roses Welcome to the Jungle\",\"Queen Bohemian Rhapsody\",\"Journey Don't Stop Believin'\",\"The Human League Don't You Want Me (Remastered)\",\"AC/DC Thunderstruck\",\"AC/DC You Shook Me All Night Long\",\"Bon Jovi You Give Love a Bad Name\",\"Asher Lev ,\",\"Guns N' Roses Paradise City\",\"AC/DC Highway to Hell\",\"Phil Collins In the Air Tonight\",\"The Police Every Breath You Take\",\"Lynyrd Skynyrd Sweet Home Alabama\",\"The Police Every Breath You Take\",\"Teenage Time Killers Ode to Sean Hannity (feat. Jello Biafra)\",\"Queen Another One Bites the Dust\",\"Bruce Springsteen Dancing In the Dark\",\"The Beatles Let It Be\",\"The Killers Mr. Brightside\",\"Naked Eyes Always Something There to Remind Me\",\"Queen Don't Stop Me Now\",\"Five Finger Death Punch A Little Bit Off\",\"Nickelback How You Remind Me\",\"Huey Lewis & The News The Power of Love\",\"Bring Me The Horizon Parasite Eve\",\"Bruce Springsteen Born in the U.S.A.\",\"The Pretty Reckless Death by Rock and Roll\",\"No Doubt Don't Speak\",\"Van Morrison Brown Eyed Girl\",\"Corey Hart Sunglasses at Night\",\"Creedence Clearwater Revival Have You Ever Seen the Rain\",\"Whitesnake Is This Love (2003 Remaster)\",\"The Beatles Here Comes the Sun\",\"Jack Scott Burning Bridges\",\"Queen Under Pressure (feat. David Bowie)\",\"Cutting Crew (I Just) Died in Your Arms Tonight\",\"4 Non Blondes What's Up?\",\"Van Halen Jump\",\"Bryan Adams Summer Of '69\",\"AC/DC Hells Bells\",\"Pink Floyd Wish You Were Here\",\"Survivor Eye of the Tiger\",\"Evanescence Bring Me To Life\",\"Queen We Will Rock You\",\"Men At Work Down Under\",\"Toploader Dancing In the Moonlight\",\"Def Leppard Photograph (Live)\",\"Bon Jovi Wanted Dead or Alive\",\"Led Zeppelin Stairway to Heaven\",\"Daryl Hall & John Oates Kiss On My List\",\"LINKIN PARK In the End\",\"Steve Miller Band Jet Airliner\",\"The Fray How to Save a Life\",\"Bruce Springsteen I'm on Fire\",\"Pink Floyd Another Brick In the Wall, Pt. 2\",\"The Calling Wherever You Will Go\",\"Boston More Than a Feeling\",\"Linkin Park & Jay-Z Numb / Encore\",\"Joan Jett & The Blackhearts I Love Rock 'N Roll\",\"The Beatles Here Comes the Sun (2019 Mix)\",\"Def Leppard Pour Some Sugar On Me\",\"Metallica Enter Sandman\",\"Tom Petty Free Fallin'\",\"Manfred Mann's Earth Band Blinded By the Light\",\"ZZ Top Sharp Dressed Man\",\"Metallica Nothing Else Matters\",\"Powerplay Powerplay\",\"Fleetwood Mac Dreams\",\"Nickelback Rockstar\",\"Kid Rock All Summer Long\",\"Disturbed The Sound of Silence\",\"Crowded House Don't Dream It's Over\",\"Peter Frampton Baby, I Love Your Way (Live)\",\"Billy Joel Piano Man\",\"Paul McCartney & Wings Silly Love Songs (Live)\",\"Trippie Redd Dreamer\",\"Electric Light Orchestra Mr. Blue Sky\",\"Electric Light Orchestra Mr. Blue Sky\",\"Billy Idol White Wedding, Pt. 1\",\"LINKIN PARK Numb\",\"Rod Stewart Baby Jane\",\"The Rolling Stones Angie\",\"Eagles Take It Easy\",\"Starship Nothing's Gonna Stop Us Now\",\"Queen We Are the Champions\",\"Ruggernaut Let Me Be Free\",\"Metallica Enter Sandman\",\"Electric Light Orchestra Don't Bring Me Down\",\"Fleetwood Mac The Chain\",\"Mrs. GREEN APPLE インフェルノ\",\"Metallica Nothing Else Matters\",\"U2 With or Without You\",\"Billy Joel It's Still Rock and Roll to Me\"]"
   ]
  },
  {
   "cell_type": "code",
   "execution_count": 419,
   "metadata": {},
   "outputs": [],
   "source": [
    "def exceptionCheck():\n",
    "    try:\n",
    "        browser.find_element_by_id(\"error\")\n",
    "    except NoSuchElementException:\n",
    "        return True\n",
    "    return False"
   ]
  },
  {
   "cell_type": "code",
   "execution_count": 474,
   "metadata": {},
   "outputs": [],
   "source": [
    "def searchSong(searchKey):\n",
    "    browser.get('https://www.mp3juices.cc')\n",
    "    search_box = browser.find_element_by_id(\"query\")\n",
    "    original_window = browser.current_window_handle\n",
    "    search_box.send_keys(searchKey)\n",
    "    search_box.submit()\n",
    "    time.sleep(2.5)\n",
    "    if exceptionCheck()==True:\n",
    "        download = browser.find_elements_by_link_text(\"Download\")\n",
    "        download[0].send_keys(Keys.RETURN)\n",
    "        time.sleep(2)\n",
    "        download_1 = browser.find_element_by_link_text(\"Download\")\n",
    "        download_1.send_keys(Keys.RETURN)\n",
    "        time.sleep(1)\n",
    "        browser.switch_to.window(original_window)\n",
    "        time.sleep(1)\n",
    "        return\n",
    "\n",
    "    "
   ]
  },
  {
   "cell_type": "code",
   "execution_count": 504,
   "metadata": {},
   "outputs": [],
   "source": [
    "browser = webdriver.Safari()"
   ]
  },
  {
   "cell_type": "code",
   "execution_count": 509,
   "metadata": {
    "tags": []
   },
   "outputs": [
    {
     "output_type": "stream",
     "name": "stdout",
     "text": "Ruggernaut Let Me Be Free\nMetallica Enter Sandman\nElectric Light Orchestra Don't Bring Me Down\nFleetwood Mac The Chain\nMrs. GREEN APPLE インフェルノ\nMetallica Nothing Else Matters\nU2 With or Without You\nBilly Joel It's Still Rock and Roll to Me\n"
    }
   ],
   "source": [
    "for i in boolean[92:]:\n",
    "    print(i)\n",
    "    searchSong(i)"
   ]
  },
  {
   "cell_type": "code",
   "execution_count": null,
   "metadata": {},
   "outputs": [],
   "source": []
  },
  {
   "cell_type": "code",
   "execution_count": 451,
   "metadata": {},
   "outputs": [],
   "source": [
    "browser.get('https://www.mp3juices.cc')\n",
    "search_box = browser.find_element_by_id(\"query\")\n",
    "original_window = browser.current_window_handle\n",
    "search_box.send_keys(\"akon\")\n",
    "search_box.submit()     "
   ]
  },
  {
   "cell_type": "code",
   "execution_count": 233,
   "metadata": {},
   "outputs": [
    {
     "output_type": "execute_result",
     "data": {
      "text/plain": "True"
     },
     "metadata": {},
     "execution_count": 233
    }
   ],
   "source": [
    "exceptionCheck()"
   ]
  },
  {
   "cell_type": "code",
   "execution_count": null,
   "metadata": {},
   "outputs": [],
   "source": []
  }
 ],
 "metadata": {
  "language_info": {
   "codemirror_mode": {
    "name": "ipython",
    "version": 3
   },
   "file_extension": ".py",
   "mimetype": "text/x-python",
   "name": "python",
   "nbconvert_exporter": "python",
   "pygments_lexer": "ipython3",
   "version": 3
  },
  "orig_nbformat": 2,
  "kernelspec": {
   "name": "python_defaultSpec_1594493885477",
   "display_name": "Python 3.7.4 64-bit ('venv': venv)"
  }
 },
 "nbformat": 4,
 "nbformat_minor": 2
}